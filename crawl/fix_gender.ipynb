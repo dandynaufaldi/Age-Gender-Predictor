{
 "cells": [
  {
   "cell_type": "code",
   "execution_count": 1,
   "metadata": {},
   "outputs": [],
   "source": [
    "import pandas as pd"
   ]
  },
  {
   "cell_type": "code",
   "execution_count": 2,
   "metadata": {},
   "outputs": [],
   "source": [
    "data = pd.read_csv('source.csv')"
   ]
  },
  {
   "cell_type": "code",
   "execution_count": 3,
   "metadata": {},
   "outputs": [
    {
     "data": {
      "text/html": [
       "<div>\n",
       "<style scoped>\n",
       "    .dataframe tbody tr th:only-of-type {\n",
       "        vertical-align: middle;\n",
       "    }\n",
       "\n",
       "    .dataframe tbody tr th {\n",
       "        vertical-align: top;\n",
       "    }\n",
       "\n",
       "    .dataframe thead th {\n",
       "        text-align: right;\n",
       "    }\n",
       "</style>\n",
       "<table border=\"1\" class=\"dataframe\">\n",
       "  <thead>\n",
       "    <tr style=\"text-align: right;\">\n",
       "      <th></th>\n",
       "      <th>name</th>\n",
       "      <th>link</th>\n",
       "      <th>full_path</th>\n",
       "      <th>dob</th>\n",
       "      <th>taken</th>\n",
       "    </tr>\n",
       "  </thead>\n",
       "  <tbody>\n",
       "    <tr>\n",
       "      <th>0</th>\n",
       "      <td>A. Rafiq</td>\n",
       "      <td>https://id.wikipedia.org/wiki/A._Rafiq</td>\n",
       "      <td>NaN</td>\n",
       "      <td>Mar 5 1948</td>\n",
       "      <td>NaN</td>\n",
       "    </tr>\n",
       "    <tr>\n",
       "      <th>1</th>\n",
       "      <td>A. Riyanto</td>\n",
       "      <td>https://id.wikipedia.org/wiki/A._Riyanto</td>\n",
       "      <td>NaN</td>\n",
       "      <td>Nov 23 1943</td>\n",
       "      <td>NaN</td>\n",
       "    </tr>\n",
       "    <tr>\n",
       "      <th>2</th>\n",
       "      <td>Abiem Ngesti</td>\n",
       "      <td>https://id.wikipedia.org/wiki/Abiem_Ngesti</td>\n",
       "      <td>NaN</td>\n",
       "      <td>Oct 30 1978</td>\n",
       "      <td>NaN</td>\n",
       "    </tr>\n",
       "    <tr>\n",
       "      <th>3</th>\n",
       "      <td>Ade Manuhutu</td>\n",
       "      <td>https://id.wikipedia.org/wiki/Ade_Manuhutu</td>\n",
       "      <td>NaN</td>\n",
       "      <td>NaN</td>\n",
       "      <td>NaN</td>\n",
       "    </tr>\n",
       "    <tr>\n",
       "      <th>4</th>\n",
       "      <td>Adera</td>\n",
       "      <td>https://id.wikipedia.org/wiki/Adera</td>\n",
       "      <td>NaN</td>\n",
       "      <td>NaN</td>\n",
       "      <td>NaN</td>\n",
       "    </tr>\n",
       "  </tbody>\n",
       "</table>\n",
       "</div>"
      ],
      "text/plain": [
       "           name                                        link full_path  \\\n",
       "0      A. Rafiq      https://id.wikipedia.org/wiki/A._Rafiq       NaN   \n",
       "1    A. Riyanto    https://id.wikipedia.org/wiki/A._Riyanto       NaN   \n",
       "2  Abiem Ngesti  https://id.wikipedia.org/wiki/Abiem_Ngesti       NaN   \n",
       "3  Ade Manuhutu  https://id.wikipedia.org/wiki/Ade_Manuhutu       NaN   \n",
       "4         Adera         https://id.wikipedia.org/wiki/Adera       NaN   \n",
       "\n",
       "           dob taken  \n",
       "0   Mar 5 1948   NaN  \n",
       "1  Nov 23 1943   NaN  \n",
       "2  Oct 30 1978   NaN  \n",
       "3          NaN   NaN  \n",
       "4          NaN   NaN  "
      ]
     },
     "execution_count": 3,
     "metadata": {},
     "output_type": "execute_result"
    }
   ],
   "source": [
    "data.head()"
   ]
  },
  {
   "cell_type": "code",
   "execution_count": 8,
   "metadata": {},
   "outputs": [
    {
     "ename": "SyntaxError",
     "evalue": "invalid syntax (<ipython-input-8-c78fe68c893a>, line 4)",
     "output_type": "error",
     "traceback": [
      "\u001b[0;36m  File \u001b[0;32m\"<ipython-input-8-c78fe68c893a>\"\u001b[0;36m, line \u001b[0;32m4\u001b[0m\n\u001b[0;31m    kel.extend([0]*)\u001b[0m\n\u001b[0m                   ^\u001b[0m\n\u001b[0;31mSyntaxError\u001b[0m\u001b[0;31m:\u001b[0m invalid syntax\n"
     ]
    }
   ],
   "source": [
    "kel = [1]*200\n",
    "kel.extend([0]*406)\n",
    "kel.extend([1]*907)\n",
    "kel.extend([0]*)"
   ]
  },
  {
   "cell_type": "code",
   "execution_count": 3,
   "metadata": {},
   "outputs": [
    {
     "data": {
      "text/html": [
       "<div>\n",
       "<style scoped>\n",
       "    .dataframe tbody tr th:only-of-type {\n",
       "        vertical-align: middle;\n",
       "    }\n",
       "\n",
       "    .dataframe tbody tr th {\n",
       "        vertical-align: top;\n",
       "    }\n",
       "\n",
       "    .dataframe thead th {\n",
       "        text-align: right;\n",
       "    }\n",
       "</style>\n",
       "<table border=\"1\" class=\"dataframe\">\n",
       "  <thead>\n",
       "    <tr style=\"text-align: right;\">\n",
       "      <th></th>\n",
       "      <th>full_path</th>\n",
       "      <th>age</th>\n",
       "      <th>gender</th>\n",
       "    </tr>\n",
       "  </thead>\n",
       "  <tbody>\n",
       "    <tr>\n",
       "      <th>./foto/Resized.jpg</th>\n",
       "      <td>23.0</td>\n",
       "      <td>23</td>\n",
       "      <td>1</td>\n",
       "    </tr>\n",
       "    <tr>\n",
       "      <th>./foto/Bghddad-alwi.jpg</th>\n",
       "      <td>47.0</td>\n",
       "      <td>47</td>\n",
       "      <td>1</td>\n",
       "    </tr>\n",
       "    <tr>\n",
       "      <th>./foto/Igor_Tamerlan_enregistrant_%C3%A0_Paris.jpg</th>\n",
       "      <td>64.0</td>\n",
       "      <td>-1</td>\n",
       "      <td>1</td>\n",
       "    </tr>\n",
       "    <tr>\n",
       "      <th>./foto/Once_Dewa_2005.JPG</th>\n",
       "      <td>35.0</td>\n",
       "      <td>35</td>\n",
       "      <td>1</td>\n",
       "    </tr>\n",
       "    <tr>\n",
       "      <th>./foto/Tompi.jpg</th>\n",
       "      <td>27.0</td>\n",
       "      <td>27</td>\n",
       "      <td>1</td>\n",
       "    </tr>\n",
       "  </tbody>\n",
       "</table>\n",
       "</div>"
      ],
      "text/plain": [
       "                                                    full_path  age  gender\n",
       "./foto/Resized.jpg                                       23.0   23       1\n",
       "./foto/Bghddad-alwi.jpg                                  47.0   47       1\n",
       "./foto/Igor_Tamerlan_enregistrant_%C3%A0_Paris.jpg       64.0   -1       1\n",
       "./foto/Once_Dewa_2005.JPG                                35.0   35       1\n",
       "./foto/Tompi.jpg                                         27.0   27       1"
      ]
     },
     "execution_count": 3,
     "metadata": {},
     "output_type": "execute_result"
    }
   ],
   "source": [
    "data = pd.read_csv('indon_result.csv')\n",
    "data.head()"
   ]
  },
  {
   "cell_type": "code",
   "execution_count": 21,
   "metadata": {},
   "outputs": [
    {
     "data": {
      "text/plain": [
       "Index(['full_path', 'age', 'gender'], dtype='object')"
      ]
     },
     "execution_count": 21,
     "metadata": {},
     "output_type": "execute_result"
    }
   ],
   "source": [
    "data.columns"
   ]
  },
  {
   "cell_type": "code",
   "execution_count": null,
   "metadata": {},
   "outputs": [],
   "source": [
    "data = data.loc[data['age'] != -1]\n",
    "data.to_csv('indonesia.csv', index=False)"
   ]
  }
 ],
 "metadata": {
  "kernelspec": {
   "display_name": "Python 3",
   "language": "python",
   "name": "python3"
  },
  "language_info": {
   "codemirror_mode": {
    "name": "ipython",
    "version": 3
   },
   "file_extension": ".py",
   "mimetype": "text/x-python",
   "name": "python",
   "nbconvert_exporter": "python",
   "pygments_lexer": "ipython3",
   "version": "3.6.5"
  }
 },
 "nbformat": 4,
 "nbformat_minor": 2
}
